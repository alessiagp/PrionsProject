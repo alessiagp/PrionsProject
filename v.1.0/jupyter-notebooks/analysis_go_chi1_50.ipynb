{
 "cells": [
  {
   "cell_type": "markdown",
   "id": "e97d4d25",
   "metadata": {},
   "source": [
    "# Data analysis of GO CHI1 at Tref = 50"
   ]
  },
  {
   "cell_type": "code",
   "execution_count": 1,
   "id": "daef24c5",
   "metadata": {},
   "outputs": [],
   "source": [
    "# Import Python packages"
   ]
  },
  {
   "cell_type": "code",
   "execution_count": 2,
   "id": "5ab37cef",
   "metadata": {},
   "outputs": [
    {
     "data": {
      "application/vnd.jupyter.widget-view+json": {
       "model_id": "fbfb87828e4941dfb565436acd7b7b0d",
       "version_major": 2,
       "version_minor": 0
      },
      "text/plain": []
     },
     "metadata": {},
     "output_type": "display_data"
    }
   ],
   "source": [
    "import os\n",
    "import numpy as np\n",
    "import pandas as pd\n",
    "import matplotlib.pyplot as plt\n",
    "import matplotlib.ticker as ticker\n",
    "from matplotlib import axes\n",
    "import nglview as nv\n",
    "import mdtraj as md"
   ]
  },
  {
   "cell_type": "code",
   "execution_count": 3,
   "id": "131b1f85",
   "metadata": {},
   "outputs": [],
   "source": [
    "# Import Python molecular dynamics tools"
   ]
  },
  {
   "cell_type": "code",
   "execution_count": 4,
   "id": "12d8619b",
   "metadata": {},
   "outputs": [],
   "source": [
    "import MDAnalysis as mda\n",
    "from MDAnalysis.analysis import rms, align, pca\n",
    "from MDAnalysis.analysis import dihedrals\n",
    "from MDAnalysis.analysis import contacts\n",
    "from MDAnalysis.analysis import helix_analysis as hel\n",
    "from MDAnalysis.tests.datafiles import PDB, GRO, XTC"
   ]
  },
  {
   "cell_type": "code",
   "execution_count": 5,
   "id": "6c0c97a4",
   "metadata": {},
   "outputs": [
    {
     "data": {
      "text/plain": [
       "'/Users/teresa/Desktop/Definitive_PPP/GO'"
      ]
     },
     "execution_count": 5,
     "metadata": {},
     "output_type": "execute_result"
    }
   ],
   "source": [
    "# Import data (protein only)\n",
    "datadir = os.getcwd()\n",
    "datadir"
   ]
  },
  {
   "cell_type": "code",
   "execution_count": 28,
   "id": "5b30c3f9",
   "metadata": {},
   "outputs": [],
   "source": [
    "# CHI1\n",
    "datadir = os.getcwd()\n",
    "\n",
    "gro = datadir+'/smog_chi1_50/chi1.28503.pdb.gro'\n",
    "xtc = datadir+'/smog_chi1_50/traj_comp_centered.xtc'\n",
    "tpr = datadir+'/smog_chi1_50/run.tpr'\n"
   ]
  },
  {
   "cell_type": "markdown",
   "id": "003115a0",
   "metadata": {},
   "source": [
    "## Load trajectory"
   ]
  },
  {
   "cell_type": "code",
   "execution_count": 29,
   "id": "bfb43d65",
   "metadata": {},
   "outputs": [],
   "source": [
    "u1 = mda.Universe(gro, xtc, in_memory= True)"
   ]
  },
  {
   "cell_type": "code",
   "execution_count": 8,
   "id": "6f38da09",
   "metadata": {},
   "outputs": [
    {
     "name": "stdout",
     "output_type": "stream",
     "text": [
      "Trajectory length=4001 frames.\n"
     ]
    }
   ],
   "source": [
    "# Print figure\n",
    "# domain_view.render_image()\n",
    "#domain_view.download_image(filename='my_image.png', factor=4, trim=True)\n",
    "domain_view = nv.show_mdanalysis(u1) \n",
    "domain_view.color_by('chainID') \n",
    "domain_view\n",
    "print(\"Trajectory length=\"+str(len(u1.trajectory))+\" frames.\")"
   ]
  },
  {
   "cell_type": "code",
   "execution_count": 9,
   "id": "e05d6997",
   "metadata": {},
   "outputs": [],
   "source": [
    "# Equivalently can load trajectory as\n",
    "# traj = md.load(\"step5_production_center.xtc\", top=\"chi2_proa.cg.pdb\")\n",
    "# view = nv.show_mdtraj(traj)\n",
    "# view"
   ]
  },
  {
   "cell_type": "markdown",
   "id": "496ec686",
   "metadata": {},
   "source": [
    "## Radius of gyration"
   ]
  },
  {
   "cell_type": "code",
   "execution_count": 59,
   "id": "48d9e5fe",
   "metadata": {},
   "outputs": [
    {
     "data": {
      "image/png": "[encoded data removed]",
      "text/plain": [
       "<Figure size 432x288 with 1 Axes>"
      ]
     },
     "metadata": {
      "needs_background": "light"
     },
     "output_type": "display_data"
    }
   ],
   "source": [
    "Rgyr = []\n",
    "\n",
    "protein = u1.select_atoms(\"protein\")\n",
    "\n",
    "for ts in u1.trajectory:\n",
    "    Rgyr.append((u1.trajectory.time, protein.radius_of_gyration())) \n",
    "Rgyr = np.array(Rgyr)\n",
    "\n",
    "# plot\n",
    "ax = plt.subplot(111)\n",
    "ax.plot(Rgyr[:,0], Rgyr[:,1], color = '#2E8B57', lw=1.25) \n",
    "\n",
    "scale_x = 1e3\n",
    "ticks = ticker.FuncFormatter(lambda x, pos: '{0:g}'.format(x/scale_x))\n",
    "ax.xaxis.set_major_formatter(ticks)\n",
    "\n",
    "ax.set_xlabel(\"time (ns)\")\n",
    "ax.set_ylabel(r\"radius of gyration $R_G$ ($\\AA$)\") \n",
    "\n",
    "ax.grid(color = '#DCDCDC', lw = 0.5)\n",
    "plt.draw()"
   ]
  },
  {
   "cell_type": "markdown",
   "id": "d2eefcf1",
   "metadata": {},
   "source": [
    "## RMSD CHI1"
   ]
  },
  {
   "cell_type": "code",
   "execution_count": 43,
   "id": "33cb3b8c",
   "metadata": {},
   "outputs": [
    {
     "data": {
      "text/plain": [
       "<MDAnalysis.analysis.rms.RMSD at 0x16e97baf0>"
      ]
     },
     "execution_count": 43,
     "metadata": {},
     "output_type": "execute_result"
    }
   ],
   "source": [
    "R = rms.RMSD(u1, # universe to align\n",
    "             u1, # reference universe \n",
    "             select = 'protein', # group to superimpose and calculate the RMSD\n",
    "             ref_frame = 0) # frame index for reference\n",
    "\n",
    "R.run()"
   ]
  },
  {
   "cell_type": "code",
   "execution_count": 48,
   "id": "a06dd78d",
   "metadata": {},
   "outputs": [
    {
     "data": {
      "text/plain": [
       "Text(0, 0.5, 'RMSD ($\\\\AA$)')"
      ]
     },
     "execution_count": 48,
     "metadata": {},
     "output_type": "execute_result"
    },
    {
     "data": {
      "image/png": "[encoded data removed]",
      "text/plain": [
       "<Figure size 432x288 with 1 Axes>"
      ]
     },
     "metadata": {
      "needs_background": "light"
     },
     "output_type": "display_data"
    }
   ],
   "source": [
    "rmsd = R.results.rmsd.T   # transpose makes it easier for plotting\n",
    "time = rmsd[1]\n",
    "#fig = plt.figure(figsize=(4,4))\n",
    "ax = plt.subplot(111)\n",
    "ax.plot(time, rmsd[2], color = '#2E8B57', lw=1.25) #,  label=\"T = 50\"\n",
    "#ax.legend(loc=\"best\")\n",
    "\n",
    "scale_x = 1e3\n",
    "ticks = ticker.FuncFormatter(lambda x, pos: '{0:g}'.format(x/scale_x))\n",
    "ax.xaxis.set_major_formatter(ticks)\n",
    "\n",
    "ax.grid(color = '#DCDCDC', lw = 0.5)\n",
    "\n",
    "ax.set_xlabel(\"time (ns)\")\n",
    "ax.set_ylabel(r\"RMSD ($\\AA$)\")\n",
    "#fig.savefig(\"rmsd_all_CORE_LID_NMP_ref1AKE.pdf\")"
   ]
  },
  {
   "cell_type": "markdown",
   "id": "4390a56a",
   "metadata": {},
   "source": [
    "## Alignment of the trajectory to the first frame"
   ]
  },
  {
   "cell_type": "code",
   "execution_count": 17,
   "id": "cb22d933",
   "metadata": {},
   "outputs": [],
   "source": [
    "mobile = u1\n",
    "ref = u1\n",
    "\n",
    "mobile.trajectory[-1] #set mobile trajectory to last frame\n",
    "ref.trajectory[0] # set reference trajectory to first frame\n",
    "\n",
    "mobile_sel = mobile.select_atoms('protein') \n",
    "ref_sel = ref.select_atoms('protein')"
   ]
  },
  {
   "cell_type": "code",
   "execution_count": 18,
   "id": "1eda684c",
   "metadata": {},
   "outputs": [],
   "source": [
    "aligner = align.AlignTraj(mobile, ref,\n",
    "                          select='all',\n",
    "                          in_memory=True).run()"
   ]
  },
  {
   "cell_type": "markdown",
   "id": "9e4d5f6f",
   "metadata": {},
   "source": [
    "## Alignement to first frame "
   ]
  },
  {
   "cell_type": "code",
   "execution_count": 21,
   "id": "27343cea",
   "metadata": {},
   "outputs": [],
   "source": [
    "mobile = u1\n",
    "ref = u1\n",
    "\n",
    "mobile.trajectory[-1] #set mobile trajectory to last frame\n",
    "ref.trajectory[0] # set reference trajectory to first frame\n",
    "\n",
    "mobile_sel = mobile.select_atoms('protein') \n",
    "ref_sel = ref.select_atoms('protein')"
   ]
  },
  {
   "cell_type": "code",
   "execution_count": 22,
   "id": "c2664581",
   "metadata": {},
   "outputs": [],
   "source": [
    "aligner = align.AlignTraj(mobile, ref,\n",
    "                          select='all',\n",
    "                          in_memory=True).run()"
   ]
  },
  {
   "cell_type": "markdown",
   "id": "cbdc0e47",
   "metadata": {},
   "source": [
    "## RMSF "
   ]
  },
  {
   "cell_type": "code",
   "execution_count": 23,
   "id": "095e7944",
   "metadata": {},
   "outputs": [],
   "source": [
    "RR = rms.RMSF(mobile_sel).run()"
   ]
  },
  {
   "cell_type": "code",
   "execution_count": 57,
   "id": "37fb7175",
   "metadata": {},
   "outputs": [
    {
     "data": {
      "image/png": "[encoded data removed]",
      "text/plain": [
       "<Figure size 432x288 with 1 Axes>"
      ]
     },
     "metadata": {
      "needs_background": "light"
     },
     "output_type": "display_data"
    }
   ],
   "source": [
    "plt.plot(mobile_sel.resids, RR.results.rmsf, color = '#2E8B57', lw=1.5)\n",
    "plt.xlabel('Residue number')\n",
    "plt.ylabel('RMSF ($\\AA$)')\n",
    "\n",
    "plt.grid(color = '#DCDCDC', lw = 0.5)"
   ]
  },
  {
   "cell_type": "markdown",
   "id": "314269ab",
   "metadata": {},
   "source": [
    "## Visualising RMSF as B-factors"
   ]
  },
  {
   "cell_type": "code",
   "execution_count": 25,
   "id": "3ed3d727",
   "metadata": {},
   "outputs": [],
   "source": [
    "mobile.add_TopologyAttr('tempfactors')\n",
    "for residue, r_value in zip(mobile_sel.residues, RR.rmsf):\n",
    "    residue.atoms.tempfactors = r_value"
   ]
  },
  {
   "cell_type": "code",
   "execution_count": 26,
   "id": "73fe6333",
   "metadata": {},
   "outputs": [
    {
     "data": {
      "application/vnd.jupyter.widget-view+json": {
       "model_id": "707736d98b7b4fabb5636beecde85667",
       "version_major": 2,
       "version_minor": 0
      },
      "text/plain": [
       "NGLWidget(max_frame=4000)"
      ]
     },
     "metadata": {},
     "output_type": "display_data"
    }
   ],
   "source": [
    "view = nv.show_mdanalysis(u1)\n",
    "view.update_representation(color_scheme='bfactor')\n",
    "view"
   ]
  }
 ],
 "metadata": {
  "kernelspec": {
   "display_name": "Python 3 (ipykernel)",
   "language": "python",
   "name": "python3"
  },
  "language_info": {
   "codemirror_mode": {
    "name": "ipython",
    "version": 3
   },
   "file_extension": ".py",
   "mimetype": "text/x-python",
   "name": "python",
   "nbconvert_exporter": "python",
   "pygments_lexer": "ipython3",
   "version": "3.10.5"
  },
  "vscode": {
   "interpreter": {
    "hash": "b0fa6594d8f4cbf19f97940f81e996739fb7646882a419484c72d19e05852a7e"
   }
  }
 },
 "nbformat": 4,
 "nbformat_minor": 5
}
